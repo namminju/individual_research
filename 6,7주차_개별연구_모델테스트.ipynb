{
 "cells": [
  {
   "cell_type": "markdown",
   "id": "2cc3e39e",
   "metadata": {},
   "source": [
    "# data를 train set과 test set으로 분리"
   ]
  },
  {
   "cell_type": "code",
   "execution_count": 1,
   "id": "8f1d210e",
   "metadata": {},
   "outputs": [],
   "source": [
    "from sklearn.ensemble import RandomForestClassifier\n",
    "import numpy as np\n",
    "import pandas as pd\n",
    "import matplotlib.pyplot as plt\n",
    "import matplotlib.font_manager as fm\n",
    "import sklearn\n",
    "from sklearn.model_selection import train_test_split\n",
    "from sklearn.metrics import accuracy_score\n",
    "# Matplotlib에서 마이너스 기호가 제대로 보이도록 설정\n",
    "plt.rc('axes', unicode_minus=False)\n"
   ]
  },
  {
   "cell_type": "code",
   "execution_count": 2,
   "id": "501ee6fb",
   "metadata": {
    "scrolled": true
   },
   "outputs": [
    {
     "data": {
      "text/html": [
       "<div>\n",
       "<style scoped>\n",
       "    .dataframe tbody tr th:only-of-type {\n",
       "        vertical-align: middle;\n",
       "    }\n",
       "\n",
       "    .dataframe tbody tr th {\n",
       "        vertical-align: top;\n",
       "    }\n",
       "\n",
       "    .dataframe thead th {\n",
       "        text-align: right;\n",
       "    }\n",
       "</style>\n",
       "<table border=\"1\" class=\"dataframe\">\n",
       "  <thead>\n",
       "    <tr style=\"text-align: right;\">\n",
       "      <th></th>\n",
       "      <th>ALG3</th>\n",
       "      <th>CD59</th>\n",
       "      <th>FMO1</th>\n",
       "      <th>ESCO2</th>\n",
       "      <th>NTRK1</th>\n",
       "      <th>BLM</th>\n",
       "      <th>APOM</th>\n",
       "      <th>PCSK9</th>\n",
       "      <th>BLMH</th>\n",
       "      <th>TIMM8A</th>\n",
       "      <th>label</th>\n",
       "    </tr>\n",
       "  </thead>\n",
       "  <tbody>\n",
       "    <tr>\n",
       "      <th>0</th>\n",
       "      <td>0.575468</td>\n",
       "      <td>0.176133</td>\n",
       "      <td>0.221508</td>\n",
       "      <td>0.789481</td>\n",
       "      <td>0.730421</td>\n",
       "      <td>0.539265</td>\n",
       "      <td>0.620090</td>\n",
       "      <td>0.848800</td>\n",
       "      <td>0.628714</td>\n",
       "      <td>0.730971</td>\n",
       "      <td>1</td>\n",
       "    </tr>\n",
       "    <tr>\n",
       "      <th>1</th>\n",
       "      <td>0.572092</td>\n",
       "      <td>0.192928</td>\n",
       "      <td>0.127363</td>\n",
       "      <td>0.763868</td>\n",
       "      <td>0.598652</td>\n",
       "      <td>0.536226</td>\n",
       "      <td>0.619478</td>\n",
       "      <td>0.757728</td>\n",
       "      <td>0.551802</td>\n",
       "      <td>0.751139</td>\n",
       "      <td>1</td>\n",
       "    </tr>\n",
       "    <tr>\n",
       "      <th>2</th>\n",
       "      <td>0.570966</td>\n",
       "      <td>0.191381</td>\n",
       "      <td>0.132371</td>\n",
       "      <td>0.762953</td>\n",
       "      <td>0.606321</td>\n",
       "      <td>0.537113</td>\n",
       "      <td>0.618406</td>\n",
       "      <td>0.871480</td>\n",
       "      <td>0.552707</td>\n",
       "      <td>0.756267</td>\n",
       "      <td>1</td>\n",
       "    </tr>\n",
       "    <tr>\n",
       "      <th>3</th>\n",
       "      <td>0.586158</td>\n",
       "      <td>0.091934</td>\n",
       "      <td>0.101657</td>\n",
       "      <td>0.767004</td>\n",
       "      <td>0.563560</td>\n",
       "      <td>0.537872</td>\n",
       "      <td>0.539392</td>\n",
       "      <td>0.846339</td>\n",
       "      <td>0.547580</td>\n",
       "      <td>0.722425</td>\n",
       "      <td>1</td>\n",
       "    </tr>\n",
       "    <tr>\n",
       "      <th>4</th>\n",
       "      <td>0.110508</td>\n",
       "      <td>0.606354</td>\n",
       "      <td>0.845470</td>\n",
       "      <td>0.254165</td>\n",
       "      <td>0.171508</td>\n",
       "      <td>0.064286</td>\n",
       "      <td>0.090805</td>\n",
       "      <td>0.174026</td>\n",
       "      <td>0.119891</td>\n",
       "      <td>0.362181</td>\n",
       "      <td>0</td>\n",
       "    </tr>\n",
       "    <tr>\n",
       "      <th>...</th>\n",
       "      <td>...</td>\n",
       "      <td>...</td>\n",
       "      <td>...</td>\n",
       "      <td>...</td>\n",
       "      <td>...</td>\n",
       "      <td>...</td>\n",
       "      <td>...</td>\n",
       "      <td>...</td>\n",
       "      <td>...</td>\n",
       "      <td>...</td>\n",
       "      <td>...</td>\n",
       "    </tr>\n",
       "    <tr>\n",
       "      <th>497</th>\n",
       "      <td>0.640456</td>\n",
       "      <td>0.166630</td>\n",
       "      <td>0.163586</td>\n",
       "      <td>0.763868</td>\n",
       "      <td>0.649779</td>\n",
       "      <td>0.521793</td>\n",
       "      <td>0.618100</td>\n",
       "      <td>0.849503</td>\n",
       "      <td>0.565978</td>\n",
       "      <td>0.763446</td>\n",
       "      <td>1</td>\n",
       "    </tr>\n",
       "    <tr>\n",
       "      <th>498</th>\n",
       "      <td>0.701786</td>\n",
       "      <td>0.167514</td>\n",
       "      <td>0.218837</td>\n",
       "      <td>0.745443</td>\n",
       "      <td>0.710899</td>\n",
       "      <td>0.536986</td>\n",
       "      <td>0.599571</td>\n",
       "      <td>0.901896</td>\n",
       "      <td>0.595838</td>\n",
       "      <td>0.787033</td>\n",
       "      <td>1</td>\n",
       "    </tr>\n",
       "    <tr>\n",
       "      <th>499</th>\n",
       "      <td>0.574342</td>\n",
       "      <td>0.190276</td>\n",
       "      <td>0.126695</td>\n",
       "      <td>0.877426</td>\n",
       "      <td>0.598420</td>\n",
       "      <td>0.537746</td>\n",
       "      <td>0.618253</td>\n",
       "      <td>0.872711</td>\n",
       "      <td>0.556326</td>\n",
       "      <td>0.772334</td>\n",
       "      <td>1</td>\n",
       "    </tr>\n",
       "    <tr>\n",
       "      <th>500</th>\n",
       "      <td>0.569278</td>\n",
       "      <td>0.191160</td>\n",
       "      <td>0.126695</td>\n",
       "      <td>0.846717</td>\n",
       "      <td>0.598420</td>\n",
       "      <td>0.538632</td>\n",
       "      <td>0.619172</td>\n",
       "      <td>0.872711</td>\n",
       "      <td>0.558136</td>\n",
       "      <td>0.770966</td>\n",
       "      <td>1</td>\n",
       "    </tr>\n",
       "    <tr>\n",
       "      <th>501</th>\n",
       "      <td>0.572092</td>\n",
       "      <td>0.190718</td>\n",
       "      <td>0.125861</td>\n",
       "      <td>0.808821</td>\n",
       "      <td>0.598652</td>\n",
       "      <td>0.537492</td>\n",
       "      <td>0.618406</td>\n",
       "      <td>0.872887</td>\n",
       "      <td>0.559946</td>\n",
       "      <td>0.766864</td>\n",
       "      <td>1</td>\n",
       "    </tr>\n",
       "  </tbody>\n",
       "</table>\n",
       "<p>502 rows × 11 columns</p>\n",
       "</div>"
      ],
      "text/plain": [
       "         ALG3      CD59      FMO1     ESCO2     NTRK1       BLM      APOM  \\\n",
       "0    0.575468  0.176133  0.221508  0.789481  0.730421  0.539265  0.620090   \n",
       "1    0.572092  0.192928  0.127363  0.763868  0.598652  0.536226  0.619478   \n",
       "2    0.570966  0.191381  0.132371  0.762953  0.606321  0.537113  0.618406   \n",
       "3    0.586158  0.091934  0.101657  0.767004  0.563560  0.537872  0.539392   \n",
       "4    0.110508  0.606354  0.845470  0.254165  0.171508  0.064286  0.090805   \n",
       "..        ...       ...       ...       ...       ...       ...       ...   \n",
       "497  0.640456  0.166630  0.163586  0.763868  0.649779  0.521793  0.618100   \n",
       "498  0.701786  0.167514  0.218837  0.745443  0.710899  0.536986  0.599571   \n",
       "499  0.574342  0.190276  0.126695  0.877426  0.598420  0.537746  0.618253   \n",
       "500  0.569278  0.191160  0.126695  0.846717  0.598420  0.538632  0.619172   \n",
       "501  0.572092  0.190718  0.125861  0.808821  0.598652  0.537492  0.618406   \n",
       "\n",
       "        PCSK9      BLMH    TIMM8A  label  \n",
       "0    0.848800  0.628714  0.730971      1  \n",
       "1    0.757728  0.551802  0.751139      1  \n",
       "2    0.871480  0.552707  0.756267      1  \n",
       "3    0.846339  0.547580  0.722425      1  \n",
       "4    0.174026  0.119891  0.362181      0  \n",
       "..        ...       ...       ...    ...  \n",
       "497  0.849503  0.565978  0.763446      1  \n",
       "498  0.901896  0.595838  0.787033      1  \n",
       "499  0.872711  0.556326  0.772334      1  \n",
       "500  0.872711  0.558136  0.770966      1  \n",
       "501  0.872887  0.559946  0.766864      1  \n",
       "\n",
       "[502 rows x 11 columns]"
      ]
     },
     "execution_count": 2,
     "metadata": {},
     "output_type": "execute_result"
    }
   ],
   "source": [
    "#df = pd.read_csv('selected_features_data_3_3.csv')#6주차에서 제작된 dataframe 가져오기\n",
    "df = pd.read_csv('SC_selected_features_data_3_3.csv')\n",
    "\n",
    "df"
   ]
  },
  {
   "cell_type": "code",
   "execution_count": 3,
   "id": "8a1aedd3",
   "metadata": {
    "scrolled": false
   },
   "outputs": [
    {
     "data": {
      "text/plain": [
       "False"
      ]
     },
     "execution_count": 3,
     "metadata": {},
     "output_type": "execute_result"
    }
   ],
   "source": [
    "df.isnull().values.any()#null이 모두 제거되었는 지 확인"
   ]
  },
  {
   "cell_type": "code",
   "execution_count": 4,
   "id": "ea786c4c",
   "metadata": {},
   "outputs": [
    {
     "data": {
      "text/html": [
       "<div>\n",
       "<style scoped>\n",
       "    .dataframe tbody tr th:only-of-type {\n",
       "        vertical-align: middle;\n",
       "    }\n",
       "\n",
       "    .dataframe tbody tr th {\n",
       "        vertical-align: top;\n",
       "    }\n",
       "\n",
       "    .dataframe thead th {\n",
       "        text-align: right;\n",
       "    }\n",
       "</style>\n",
       "<table border=\"1\" class=\"dataframe\">\n",
       "  <thead>\n",
       "    <tr style=\"text-align: right;\">\n",
       "      <th></th>\n",
       "      <th>ALG3</th>\n",
       "      <th>CD59</th>\n",
       "      <th>FMO1</th>\n",
       "      <th>ESCO2</th>\n",
       "      <th>NTRK1</th>\n",
       "      <th>BLM</th>\n",
       "      <th>APOM</th>\n",
       "      <th>PCSK9</th>\n",
       "      <th>BLMH</th>\n",
       "      <th>TIMM8A</th>\n",
       "    </tr>\n",
       "  </thead>\n",
       "  <tbody>\n",
       "    <tr>\n",
       "      <th>count</th>\n",
       "      <td>502.000000</td>\n",
       "      <td>502.000000</td>\n",
       "      <td>502.000000</td>\n",
       "      <td>502.000000</td>\n",
       "      <td>502.000000</td>\n",
       "      <td>502.000000</td>\n",
       "      <td>502.000000</td>\n",
       "      <td>502.000000</td>\n",
       "      <td>502.000000</td>\n",
       "      <td>502.000000</td>\n",
       "    </tr>\n",
       "    <tr>\n",
       "      <th>mean</th>\n",
       "      <td>0.563558</td>\n",
       "      <td>0.242976</td>\n",
       "      <td>0.227507</td>\n",
       "      <td>0.702094</td>\n",
       "      <td>0.588698</td>\n",
       "      <td>0.496104</td>\n",
       "      <td>0.566934</td>\n",
       "      <td>0.785278</td>\n",
       "      <td>0.528034</td>\n",
       "      <td>0.704440</td>\n",
       "    </tr>\n",
       "    <tr>\n",
       "      <th>std</th>\n",
       "      <td>0.170698</td>\n",
       "      <td>0.137572</td>\n",
       "      <td>0.217096</td>\n",
       "      <td>0.186678</td>\n",
       "      <td>0.142932</td>\n",
       "      <td>0.158388</td>\n",
       "      <td>0.174910</td>\n",
       "      <td>0.218053</td>\n",
       "      <td>0.137738</td>\n",
       "      <td>0.171230</td>\n",
       "    </tr>\n",
       "    <tr>\n",
       "      <th>min</th>\n",
       "      <td>0.000000</td>\n",
       "      <td>0.000000</td>\n",
       "      <td>0.000000</td>\n",
       "      <td>0.000000</td>\n",
       "      <td>0.000000</td>\n",
       "      <td>0.000000</td>\n",
       "      <td>0.000000</td>\n",
       "      <td>0.000000</td>\n",
       "      <td>0.000000</td>\n",
       "      <td>0.000000</td>\n",
       "    </tr>\n",
       "    <tr>\n",
       "      <th>25%</th>\n",
       "      <td>0.563370</td>\n",
       "      <td>0.188619</td>\n",
       "      <td>0.125694</td>\n",
       "      <td>0.709539</td>\n",
       "      <td>0.595631</td>\n",
       "      <td>0.521983</td>\n",
       "      <td>0.606653</td>\n",
       "      <td>0.838339</td>\n",
       "      <td>0.532876</td>\n",
       "      <td>0.733706</td>\n",
       "    </tr>\n",
       "    <tr>\n",
       "      <th>50%</th>\n",
       "      <td>0.575186</td>\n",
       "      <td>0.191823</td>\n",
       "      <td>0.133038</td>\n",
       "      <td>0.762823</td>\n",
       "      <td>0.598420</td>\n",
       "      <td>0.536859</td>\n",
       "      <td>0.618253</td>\n",
       "      <td>0.870777</td>\n",
       "      <td>0.553310</td>\n",
       "      <td>0.757293</td>\n",
       "    </tr>\n",
       "    <tr>\n",
       "      <th>75%</th>\n",
       "      <td>0.622099</td>\n",
       "      <td>0.232044</td>\n",
       "      <td>0.201728</td>\n",
       "      <td>0.784776</td>\n",
       "      <td>0.632059</td>\n",
       "      <td>0.541892</td>\n",
       "      <td>0.626101</td>\n",
       "      <td>0.872535</td>\n",
       "      <td>0.568014</td>\n",
       "      <td>0.773359</td>\n",
       "    </tr>\n",
       "    <tr>\n",
       "      <th>max</th>\n",
       "      <td>1.000000</td>\n",
       "      <td>1.000000</td>\n",
       "      <td>1.000000</td>\n",
       "      <td>1.000000</td>\n",
       "      <td>1.000000</td>\n",
       "      <td>1.000000</td>\n",
       "      <td>1.000000</td>\n",
       "      <td>1.000000</td>\n",
       "      <td>1.000000</td>\n",
       "      <td>1.000000</td>\n",
       "    </tr>\n",
       "  </tbody>\n",
       "</table>\n",
       "</div>"
      ],
      "text/plain": [
       "             ALG3        CD59        FMO1       ESCO2       NTRK1         BLM  \\\n",
       "count  502.000000  502.000000  502.000000  502.000000  502.000000  502.000000   \n",
       "mean     0.563558    0.242976    0.227507    0.702094    0.588698    0.496104   \n",
       "std      0.170698    0.137572    0.217096    0.186678    0.142932    0.158388   \n",
       "min      0.000000    0.000000    0.000000    0.000000    0.000000    0.000000   \n",
       "25%      0.563370    0.188619    0.125694    0.709539    0.595631    0.521983   \n",
       "50%      0.575186    0.191823    0.133038    0.762823    0.598420    0.536859   \n",
       "75%      0.622099    0.232044    0.201728    0.784776    0.632059    0.541892   \n",
       "max      1.000000    1.000000    1.000000    1.000000    1.000000    1.000000   \n",
       "\n",
       "             APOM       PCSK9        BLMH      TIMM8A  \n",
       "count  502.000000  502.000000  502.000000  502.000000  \n",
       "mean     0.566934    0.785278    0.528034    0.704440  \n",
       "std      0.174910    0.218053    0.137738    0.171230  \n",
       "min      0.000000    0.000000    0.000000    0.000000  \n",
       "25%      0.606653    0.838339    0.532876    0.733706  \n",
       "50%      0.618253    0.870777    0.553310    0.757293  \n",
       "75%      0.626101    0.872535    0.568014    0.773359  \n",
       "max      1.000000    1.000000    1.000000    1.000000  "
      ]
     },
     "execution_count": 4,
     "metadata": {},
     "output_type": "execute_result"
    }
   ],
   "source": [
    "df.iloc[:, :-1].describe()#각 feature별 값 분석"
   ]
  },
  {
   "cell_type": "code",
   "execution_count": 5,
   "id": "dd14fb25",
   "metadata": {},
   "outputs": [],
   "source": [
    "X = df.iloc[:, :-1]#X(feature)\n",
    "y = df.iloc[:, -1]#y(label)\n",
    "#train set, test set 분리(7:3)\n",
    "X_train, X_test, y_train, y_test = train_test_split(X, y, test_size=0.3, random_state=1)"
   ]
  },
  {
   "cell_type": "markdown",
   "id": "f0d705ff",
   "metadata": {},
   "source": [
    "# RandomForest"
   ]
  },
  {
   "cell_type": "code",
   "execution_count": 6,
   "id": "da94990d",
   "metadata": {},
   "outputs": [],
   "source": [
    "rf = RandomForestClassifier()#RandomForest 모델 생성"
   ]
  },
  {
   "cell_type": "code",
   "execution_count": 7,
   "id": "20c9d1b7",
   "metadata": {},
   "outputs": [
    {
     "data": {
      "text/plain": [
       "RandomForestClassifier()"
      ]
     },
     "execution_count": 7,
     "metadata": {},
     "output_type": "execute_result"
    }
   ],
   "source": [
    "rf.fit(X_train, y_train)#train set 학습"
   ]
  },
  {
   "cell_type": "code",
   "execution_count": 8,
   "id": "1c64c1c1",
   "metadata": {},
   "outputs": [
    {
     "name": "stdout",
     "output_type": "stream",
     "text": [
      "Train accuracy: 1.0000\n",
      "Test accuracy: 1.0000\n"
     ]
    }
   ],
   "source": [
    "# train set, test set에 대한 정확도 측정\n",
    "print(f\"Train accuracy: {rf.score(X_train, y_train):.4f}\")\n",
    "print(f\"Test accuracy: {rf.score(X_test, y_test):.4f}\")"
   ]
  },
  {
   "cell_type": "markdown",
   "id": "88d7f6a8",
   "metadata": {},
   "source": [
    "#  Gradient Boosting"
   ]
  },
  {
   "cell_type": "code",
   "execution_count": 9,
   "id": "695b6c34",
   "metadata": {},
   "outputs": [],
   "source": [
    "from sklearn.ensemble import GradientBoostingClassifier\n",
    "gb = GradientBoostingClassifier(n_estimators=100, learning_rate=0.1, random_state=42)"
   ]
  },
  {
   "cell_type": "code",
   "execution_count": 10,
   "id": "c3bdc8d8",
   "metadata": {},
   "outputs": [
    {
     "data": {
      "text/plain": [
       "GradientBoostingClassifier(random_state=42)"
      ]
     },
     "execution_count": 10,
     "metadata": {},
     "output_type": "execute_result"
    }
   ],
   "source": [
    "gb.fit(X_train, y_train)"
   ]
  },
  {
   "cell_type": "code",
   "execution_count": 11,
   "id": "c0765372",
   "metadata": {},
   "outputs": [
    {
     "name": "stdout",
     "output_type": "stream",
     "text": [
      "Train accuracy: 1.0000\n",
      "Test accuracy: 1.0000\n"
     ]
    }
   ],
   "source": [
    "# train set, test set에 대한 정확도 측정\n",
    "print(f\"Train accuracy: {gb.score(X_train, y_train):.4f}\")\n",
    "print(f\"Test accuracy: {gb.score(X_test, y_test):.4f}\")"
   ]
  },
  {
   "cell_type": "markdown",
   "id": "4d737fd3",
   "metadata": {},
   "source": [
    "#  Logistic Regression"
   ]
  },
  {
   "cell_type": "code",
   "execution_count": 12,
   "id": "ee6da7b1",
   "metadata": {},
   "outputs": [],
   "source": [
    "from sklearn.linear_model import LogisticRegression\n",
    "lr = LogisticRegression()"
   ]
  },
  {
   "cell_type": "code",
   "execution_count": 13,
   "id": "e1152247",
   "metadata": {},
   "outputs": [
    {
     "data": {
      "text/plain": [
       "LogisticRegression()"
      ]
     },
     "execution_count": 13,
     "metadata": {},
     "output_type": "execute_result"
    }
   ],
   "source": [
    "lr.fit(X_train, y_train)"
   ]
  },
  {
   "cell_type": "code",
   "execution_count": 14,
   "id": "d2bcb080",
   "metadata": {},
   "outputs": [
    {
     "name": "stdout",
     "output_type": "stream",
     "text": [
      "Train accuracy: 1.0000\n",
      "Test accuracy: 0.9934\n"
     ]
    }
   ],
   "source": [
    "# train set, test set에 대한 정확도 측정\n",
    "print(f\"Train accuracy: {lr.score(X_train, y_train):.4f}\")\n",
    "print(f\"Test accuracy: {lr.score(X_test, y_test):.4f}\")"
   ]
  },
  {
   "cell_type": "markdown",
   "id": "476b3c77",
   "metadata": {},
   "source": [
    "# SVM"
   ]
  },
  {
   "cell_type": "code",
   "execution_count": 15,
   "id": "0e3f1163",
   "metadata": {},
   "outputs": [],
   "source": [
    "from sklearn.svm import SVC\n",
    "svc = SVC()"
   ]
  },
  {
   "cell_type": "code",
   "execution_count": 16,
   "id": "682e605f",
   "metadata": {},
   "outputs": [
    {
     "data": {
      "text/plain": [
       "SVC()"
      ]
     },
     "execution_count": 16,
     "metadata": {},
     "output_type": "execute_result"
    }
   ],
   "source": [
    "svc.fit(X_train, y_train)"
   ]
  },
  {
   "cell_type": "code",
   "execution_count": 17,
   "id": "0734cc65",
   "metadata": {},
   "outputs": [
    {
     "name": "stdout",
     "output_type": "stream",
     "text": [
      "Train accuracy: 1.0000\n",
      "Test accuracy: 1.0000\n"
     ]
    }
   ],
   "source": [
    "# train set, test set에 대한 정확도 측정\n",
    "print(f\"Train accuracy: {svc.score(X_train, y_train):.4f}\")\n",
    "print(f\"Test accuracy: {svc.score(X_test, y_test):.4f}\")"
   ]
  },
  {
   "cell_type": "markdown",
   "id": "ad6dea68",
   "metadata": {},
   "source": [
    "# 나이브 베이즈"
   ]
  },
  {
   "cell_type": "code",
   "execution_count": 18,
   "id": "0d49b355",
   "metadata": {},
   "outputs": [],
   "source": [
    "from sklearn.naive_bayes import GaussianNB\n",
    "nb = GaussianNB()"
   ]
  },
  {
   "cell_type": "code",
   "execution_count": 19,
   "id": "032b7fee",
   "metadata": {},
   "outputs": [
    {
     "data": {
      "text/plain": [
       "GaussianNB()"
      ]
     },
     "execution_count": 19,
     "metadata": {},
     "output_type": "execute_result"
    }
   ],
   "source": [
    "nb.fit(X_train, y_train)"
   ]
  },
  {
   "cell_type": "code",
   "execution_count": 20,
   "id": "1f30bc8d",
   "metadata": {},
   "outputs": [
    {
     "name": "stdout",
     "output_type": "stream",
     "text": [
      "Train accuracy: 1.0000\n",
      "Test accuracy: 1.0000\n"
     ]
    }
   ],
   "source": [
    "# train set, test set에 대한 정확도 측정\n",
    "print(f\"Train accuracy: {nb.score(X_train, y_train):.4f}\")\n",
    "print(f\"Test accuracy: {nb.score(X_test, y_test):.4f}\")"
   ]
  },
  {
   "cell_type": "markdown",
   "id": "248d6715",
   "metadata": {},
   "source": [
    "# Decision Trees"
   ]
  },
  {
   "cell_type": "code",
   "execution_count": 21,
   "id": "5d2fab47",
   "metadata": {},
   "outputs": [],
   "source": [
    "from sklearn.tree import DecisionTreeClassifier, DecisionTreeRegressor\n",
    "clf = DecisionTreeClassifier()"
   ]
  },
  {
   "cell_type": "code",
   "execution_count": 22,
   "id": "b6a31901",
   "metadata": {},
   "outputs": [
    {
     "data": {
      "text/plain": [
       "DecisionTreeClassifier()"
      ]
     },
     "execution_count": 22,
     "metadata": {},
     "output_type": "execute_result"
    }
   ],
   "source": [
    "clf.fit(X_train, y_train)"
   ]
  },
  {
   "cell_type": "code",
   "execution_count": 23,
   "id": "0b984d0c",
   "metadata": {},
   "outputs": [
    {
     "name": "stdout",
     "output_type": "stream",
     "text": [
      "Train accuracy: 1.0000\n",
      "Test accuracy: 1.0000\n"
     ]
    }
   ],
   "source": [
    "# train set, test set에 대한 정확도 측정\n",
    "print(f\"Train accuracy: {clf.score(X_train, y_train):.4f}\")\n",
    "print(f\"Test accuracy: {clf.score(X_test, y_test):.4f}\")"
   ]
  },
  {
   "cell_type": "markdown",
   "id": "ee628ce5",
   "metadata": {},
   "source": [
    "# K-Nearest Neighbors"
   ]
  },
  {
   "cell_type": "code",
   "execution_count": 24,
   "id": "4e1eafdd",
   "metadata": {},
   "outputs": [
    {
     "data": {
      "text/plain": [
       "KNeighborsClassifier()"
      ]
     },
     "execution_count": 24,
     "metadata": {},
     "output_type": "execute_result"
    }
   ],
   "source": [
    "# learn k-NN model\n",
    "from sklearn.neighbors import KNeighborsClassifier\n",
    "\n",
    "knn = KNeighborsClassifier()\n",
    "knn.fit(X_train, y_train)"
   ]
  },
  {
   "cell_type": "code",
   "execution_count": 25,
   "id": "da6b0890",
   "metadata": {},
   "outputs": [
    {
     "name": "stdout",
     "output_type": "stream",
     "text": [
      "Train accuracy: 1.0000\n",
      "Test accuracy: 1.0000\n"
     ]
    }
   ],
   "source": [
    "# compute the train test accuracy\n",
    "print(f\"Train accuracy: {knn.score(X_train, y_train):.4f}\")\n",
    "print(f\"Test accuracy: {knn.score(X_test, y_test):.4f}\")"
   ]
  },
  {
   "cell_type": "markdown",
   "id": "d04a7c99",
   "metadata": {},
   "source": [
    "# Model accuracy comparison"
   ]
  },
  {
   "cell_type": "code",
   "execution_count": 26,
   "id": "bc562020",
   "metadata": {},
   "outputs": [],
   "source": [
    "# get the accuracy of 4 models\n",
    "models = [lr, gb, svc,nb,clf,knn]\n",
    "train_acc = []\n",
    "test_acc = []\n",
    "\n",
    "for m in models:\n",
    "    train_acc.append(m.score(X_train, y_train))\n",
    "    test_acc.append(m.score(X_test, y_test))"
   ]
  },
  {
   "cell_type": "code",
   "execution_count": 27,
   "id": "a808f43a",
   "metadata": {},
   "outputs": [
    {
     "data": {
      "image/png": "[encoded data removed]",
      "text/plain": [
       "<Figure size 432x288 with 1 Axes>"
      ]
     },
     "metadata": {
      "needs_background": "light"
     },
     "output_type": "display_data"
    }
   ],
   "source": [
    "# bar plot the train/test accuracies of 4 models\n",
    "\n",
    "model_names = [\"LR\",\"GB\",\"SVC\",\"NB\",\"CLF\", \"KNN\"]\n",
    "# to position it nicely on x axis\n",
    "ypos=np.arange(len(model_names))\n",
    "\n",
    "plt.bar(ypos-0.2, train_acc, width=0.4, label='Train', color='red')\n",
    "plt.bar(ypos+0.2, test_acc, width=0.4, label='Test', color='blue')\n",
    "\n",
    "plt.title('Predict cancer')\n",
    "plt.xticks(ypos, model_names)\n",
    "plt.xlabel('Models')\n",
    "plt.ylabel('Accuracy')\n",
    "\n",
    "plt.legend()\n",
    "plt.ylim(0.5, 1.02)\n",
    "plt.grid()\n",
    "plt.show()"
   ]
  },
  {
   "cell_type": "code",
   "execution_count": null,
   "id": "251bf346",
   "metadata": {},
   "outputs": [],
   "source": []
  }
 ],
 "metadata": {
  "kernelspec": {
   "display_name": "Python 3 (ipykernel)",
   "language": "python",
   "name": "python3"
  },
  "language_info": {
   "codemirror_mode": {
    "name": "ipython",
    "version": 3
   },
   "file_extension": ".py",
   "mimetype": "text/x-python",
   "name": "python",
   "nbconvert_exporter": "python",
   "pygments_lexer": "ipython3",
   "version": "3.9.12"
  }
 },
 "nbformat": 4,
 "nbformat_minor": 5
}
